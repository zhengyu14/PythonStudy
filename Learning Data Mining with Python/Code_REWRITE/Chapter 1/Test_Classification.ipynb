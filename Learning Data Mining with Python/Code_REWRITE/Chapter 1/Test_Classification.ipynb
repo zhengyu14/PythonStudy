{
 "cells": [
  {
   "cell_type": "code",
   "execution_count": 1,
   "metadata": {},
   "outputs": [],
   "source": [
    "from sklearn.datasets import load_iris\n",
    "import numpy as np"
   ]
  },
  {
   "cell_type": "code",
   "execution_count": 32,
   "metadata": {
    "scrolled": true
   },
   "outputs": [
    {
     "name": "stdout",
     "output_type": "stream",
     "text": [
      "Iris Plants Database\n",
      "====================\n",
      "\n",
      "Notes\n",
      "-----\n",
      "Data Set Characteristics:\n",
      "    :Number of Instances: 150 (50 in each of three classes)\n",
      "    :Number of Attributes: 4 numeric, predictive attributes and the class\n",
      "    :Attribute Information:\n",
      "        - sepal length in cm\n",
      "        - sepal width in cm\n",
      "        - petal length in cm\n",
      "        - petal width in cm\n",
      "        - class:\n",
      "                - Iris-Setosa\n",
      "                - Iris-Versicolour\n",
      "                - Iris-Virginica\n",
      "    :Summary Statistics:\n",
      "\n",
      "    ============== ==== ==== ======= ===== ====================\n",
      "                    Min  Max   Mean    SD   Class Correlation\n",
      "    ============== ==== ==== ======= ===== ====================\n",
      "    sepal length:   4.3  7.9   5.84   0.83    0.7826\n",
      "    sepal width:    2.0  4.4   3.05   0.43   -0.4194\n",
      "    petal length:   1.0  6.9   3.76   1.76    0.9490  (high!)\n",
      "    petal width:    0.1  2.5   1.20  0.76     0.9565  (high!)\n",
      "    ============== ==== ==== ======= ===== ====================\n",
      "\n",
      "    :Missing Attribute Values: None\n",
      "    :Class Distribution: 33.3% for each of 3 classes.\n",
      "    :Creator: R.A. Fisher\n",
      "    :Donor: Michael Marshall (MARSHALL%PLU@io.arc.nasa.gov)\n",
      "    :Date: July, 1988\n",
      "\n",
      "This is a copy of UCI ML iris datasets.\n",
      "http://archive.ics.uci.edu/ml/datasets/Iris\n",
      "\n",
      "The famous Iris database, first used by Sir R.A Fisher\n",
      "\n",
      "This is perhaps the best known database to be found in the\n",
      "pattern recognition literature.  Fisher's paper is a classic in the field and\n",
      "is referenced frequently to this day.  (See Duda & Hart, for example.)  The\n",
      "data set contains 3 classes of 50 instances each, where each class refers to a\n",
      "type of iris plant.  One class is linearly separable from the other 2; the\n",
      "latter are NOT linearly separable from each other.\n",
      "\n",
      "References\n",
      "----------\n",
      "   - Fisher,R.A. \"The use of multiple measurements in taxonomic problems\"\n",
      "     Annual Eugenics, 7, Part II, 179-188 (1936); also in \"Contributions to\n",
      "     Mathematical Statistics\" (John Wiley, NY, 1950).\n",
      "   - Duda,R.O., & Hart,P.E. (1973) Pattern Classification and Scene Analysis.\n",
      "     (Q327.D83) John Wiley & Sons.  ISBN 0-471-22361-1.  See page 218.\n",
      "   - Dasarathy, B.V. (1980) \"Nosing Around the Neighborhood: A New System\n",
      "     Structure and Classification Rule for Recognition in Partially Exposed\n",
      "     Environments\".  IEEE Transactions on Pattern Analysis and Machine\n",
      "     Intelligence, Vol. PAMI-2, No. 1, 67-71.\n",
      "   - Gates, G.W. (1972) \"The Reduced Nearest Neighbor Rule\".  IEEE Transactions\n",
      "     on Information Theory, May 1972, 431-433.\n",
      "   - See also: 1988 MLC Proceedings, 54-64.  Cheeseman et al\"s AUTOCLASS II\n",
      "     conceptual clustering system finds 3 classes in the data.\n",
      "   - Many, many more ...\n",
      "\n",
      "The data contains 150 instances, for each has 4 attributes.\n",
      "5 data samples in data: \n",
      "[5.1 3.5 1.4 0.2]\n",
      "[4.9 3.  1.4 0.2]\n",
      "[4.7 3.2 1.3 0.2]\n",
      "[4.6 3.1 1.5 0.2]\n",
      "[5.  3.6 1.4 0.2]\n",
      "The data contains 150 attributes.\n",
      "In target: 0 - Iris Sentosa, 1 - Iris Cersicolour, 2 - Iris Virginica\n",
      "5 data samples in target: \n",
      "0\n",
      "0\n",
      "0\n",
      "0\n",
      "0\n"
     ]
    }
   ],
   "source": [
    "# load load_iris dataset from scikit-learn library, display description and information\n",
    "#   sepal: 萼片\n",
    "#   petal: 花瓣\n",
    "dataset = load_iris()\n",
    "iris_data = dataset.data\n",
    "iris_target = dataset.target\n",
    "print (dataset.DESCR)\n",
    "data_instances, data_attributes = iris_data.shape\n",
    "print (\"The data contains {0} instances, for each has {1} attributes.\".format(data_instances, data_attributes))\n",
    "print (\"5 data samples in data: \")\n",
    "for index in range(5):\n",
    "    print (iris_data[index])\n",
    "target_instances = iris_target.shape[0]\n",
    "print (\"The data contains {0} instances.\".format(target_instances))\n",
    "print (\"In target: 0 - Iris Sentosa, 1 - Iris Cersicolour, 2 - Iris Virginica\")\n",
    "print (\"5 data samples in target: \")\n",
    "for index in range(5):\n",
    "    print (iris_target[index])"
   ]
  },
  {
   "cell_type": "code",
   "execution_count": 21,
   "metadata": {},
   "outputs": [
    {
     "name": "stdout",
     "output_type": "stream",
     "text": [
      "Means for each attributes: \n",
      "[5.84333333 3.054      3.75866667 1.19866667]\n",
      "5 sample feature set: \n",
      "[0 1 0 0]\n",
      "[0 0 0 0]\n",
      "[0 1 0 0]\n",
      "[0 1 0 0]\n",
      "[0 1 0 0]\n"
     ]
    }
   ],
   "source": [
    "# calculate the means of each attributes for all samples\n",
    "# get feature set based on means: \n",
    "#    find out the attributes greater than mean value (set to 1), and ignore the others (set to 0)\n",
    "attribute_means = iris_data.mean(axis=0)\n",
    "assert attribute_means.shape == (data_attributes,)\n",
    "print (\"Means for each attribute: \")\n",
    "print (attribute_means)\n",
    "iris_data_d = np.array(iris_data >= attribute_means, dtype='int')\n",
    "print (\"5 sample feature set: \")\n",
    "for index in range(5):\n",
    "    print (iris_data_d[index])"
   ]
  },
  {
   "cell_type": "code",
   "execution_count": 31,
   "metadata": {},
   "outputs": [
    {
     "name": "stdout",
     "output_type": "stream",
     "text": [
      "There are 112 training target samples.\n",
      "There are 38 testing target samples.\n"
     ]
    }
   ],
   "source": [
    "# split feature set and target set into training and test set\n",
    "from sklearn.cross_validation import train_test_split\n",
    "random_state = 14\n",
    "iris_data_train, iris_data_test, iris_target_train, iris_target_test = train_test_split(iris_data_d, iris_target, random_state = random_state)\n",
    "print(\"There are {0} training target samples.\".format(iris_target_train.shape[0]))\n",
    "print(\"There are {0} testing target samples.\".format(iris_target_test.shape[0]))"
   ]
  },
  {
   "cell_type": "code",
   "execution_count": 49,
   "metadata": {},
   "outputs": [
    {
     "name": "stdout",
     "output_type": "stream",
     "text": [
      "Example: find the predictors of feature sepal length(0)\n",
      "sepal length of 4.7 cm should be in 0 class.\n",
      "sepal length of 5.5 cm should be in 1 class.\n",
      "sepal length of 6.3 cm should be in 2 class.\n",
      "sepal length of 5.0 cm should be in 0 class.\n",
      "sepal length of 4.9 cm should be in 0 class.\n",
      "sepal length of 5.1 cm should be in 0 class.\n",
      "sepal length of 4.6 cm should be in 0 class.\n",
      "sepal length of 5.4 cm should be in 0 class.\n",
      "sepal length of 4.4 cm should be in 0 class.\n",
      "sepal length of 4.8 cm should be in 0 class.\n",
      "sepal length of 5.8 cm should be in 1 class.\n",
      "sepal length of 7.0 cm should be in 1 class.\n",
      "sepal length of 7.1 cm should be in 2 class.\n",
      "sepal length of 4.5 cm should be in 0 class.\n",
      "sepal length of 5.9 cm should be in 1 class.\n",
      "sepal length of 5.6 cm should be in 1 class.\n",
      "sepal length of 6.9 cm should be in 2 class.\n",
      "sepal length of 6.6 cm should be in 1 class.\n",
      "sepal length of 6.5 cm should be in 2 class.\n",
      "sepal length of 6.4 cm should be in 2 class.\n",
      "sepal length of 6.0 cm should be in 1 class.\n",
      "sepal length of 6.1 cm should be in 1 class.\n",
      "sepal length of 7.6 cm should be in 2 class.\n",
      "sepal length of 7.4 cm should be in 2 class.\n",
      "sepal length of 7.9 cm should be in 2 class.\n",
      "sepal length of 4.3 cm should be in 0 class.\n",
      "sepal length of 5.7 cm should be in 1 class.\n",
      "sepal length of 5.3 cm should be in 0 class.\n",
      "sepal length of 5.2 cm should be in 0 class.\n",
      "sepal length of 6.7 cm should be in 2 class.\n",
      "sepal length of 6.2 cm should be in 1 class.\n",
      "sepal length of 6.8 cm should be in 2 class.\n",
      "sepal length of 7.3 cm should be in 2 class.\n",
      "sepal length of 7.2 cm should be in 2 class.\n",
      "sepal length of 7.7 cm should be in 2 class.\n",
      "with total value 35%\n"
     ]
    }
   ],
   "source": [
    "# \n",
    "from collections import defaultdict\n",
    "from operator import itemgetter\n",
    "# this function aims to:\n",
    "#    find the most frequent class of a certain feature\n",
    "#    find the error\n",
    "def train_feature_value(data, target, feature, value):\n",
    "    # Create a simple dictionary to count how frequency they give certain predictions\n",
    "    class_counts = defaultdict(int)\n",
    "    for x, y in zip(data, target): # combine the data and target\n",
    "        if x[feature] == value:\n",
    "            class_counts[y] += 1\n",
    "    # Now get the best one by sorting (highest first) and choosing the first item\n",
    "    sorted_class_counts = sorted(class_counts.items(), key=itemgetter(1), reverse=True)\n",
    "    most_frequent_class = sorted_class_counts[0][0] # most frequent class name(0, 1 or 2)\n",
    "    # The error is the number of samples that do not belong to the most frequent class but have the same feature value.\n",
    "    data_attributes = data.shape[1] # 4 attributes\n",
    "    error = sum([class_count for class_value, class_count in class_counts.items() if class_value != most_frequent_class])\n",
    "    return most_frequent_class, error\n",
    "\n",
    "# this function aims to:\n",
    "#    find the feature values and their cooresponding most-frequent class\n",
    "#    find the total error for this certain feature\n",
    "def train(data, target, feature): # data: data set; target: target_set; feature: feature number\n",
    "    data_samples, data_features = data.shape\n",
    "    assert 0 <= feature < data_features\n",
    "    values = set(data[:, feature]) # get unique values for a certain feature\n",
    "    predictors = dict()\n",
    "    errors = []\n",
    "    for current_value in values:\n",
    "        most_frequent_class, error = train_feature_value(data, target, feature, current_value)\n",
    "        predictors[current_value] = most_frequent_class\n",
    "        errors.append(error)\n",
    "    # Compute the total error of using this feature to classify on\n",
    "    total_error = sum(errors)\n",
    "    return predictors, total_error\n",
    "predictors, total_error = train(iris_data, iris_target, 0)\n",
    "\n",
    "print(\"Example: find the predictors of feature sepal length(0)\")\n",
    "predictors_array = predictors.items()\n",
    "for predictor in predictors_array:\n",
    "    print (\"sepal length of {0} cm should be in {1} class.\".format(predictor[0], predictor[1]))\n",
    "print(\"with total value {0}%\".format(total_error))"
   ]
  },
  {
   "cell_type": "code",
   "execution_count": 53,
   "metadata": {},
   "outputs": [
    {
     "name": "stdout",
     "output_type": "stream",
     "text": [
      "{0: ({0: 0, 1: 2}, 41), 1: ({0: 1, 1: 0}, 58), 2: ({0: 0, 1: 2}, 37), 3: ({0: 0, 1: 2}, 37)}\n",
      "The best model is based on variable 2 and has error 37.00%\n",
      "{'variable': 2, 'predictor': {0: 0, 1: 2}}\n"
     ]
    }
   ],
   "source": [
    "# Compute all of the predictors\n",
    "all_predictors = {variable: train(iris_data_train, iris_target_train, variable) for variable in range(iris_data_train.shape[1])}\n",
    "errors = {variable: error for variable, (mapping, error) in all_predictors.items()}\n",
    "# Now choose the best and save that as \"model\"\n",
    "# Sort by error\n",
    "best_variable, best_error = sorted(errors.items(), key=itemgetter(1))[0]\n",
    "print(\"The best model is based on variable {0} and has error {1:.2f}%\".format(best_variable, best_error))\n",
    "\n",
    "# Choose the bset model\n",
    "model = {'variable': best_variable,\n",
    "         'predictor': all_predictors[best_variable][0]}\n",
    "print(model)"
   ]
  },
  {
   "cell_type": "code",
   "execution_count": 62,
   "metadata": {},
   "outputs": [
    {
     "name": "stdout",
     "output_type": "stream",
     "text": [
      "[0 0 0 2 2 2 0 2 0 2 2 0 2 2 0 2 0 2 2 2 0 0 0 2 0 2 0 2 2 0 0 0 2 0 2 0 2\n",
      " 2]\n"
     ]
    }
   ],
   "source": [
    "def predict(data_test, model): # 38 samples in data test set\n",
    "    variable = model['variable']\n",
    "    predictor = model['predictor']\n",
    "    target_predicted = np.array([predictor[int(sample[variable])] for sample in data_test])\n",
    "    return target_predicted\n",
    "iris_target_predicted = predict(iris_data_test, model)\n",
    "print (iris_target_predicted)"
   ]
  },
  {
   "cell_type": "code",
   "execution_count": 63,
   "metadata": {},
   "outputs": [
    {
     "name": "stdout",
     "output_type": "stream",
     "text": [
      "The test accuracy is 65.8%\n"
     ]
    }
   ],
   "source": [
    "# Compute the accuracy by taking the mean of the amounts that y_predicted is equal to y_test\n",
    "accuracy = np.mean(iris_target_predicted == iris_target_test) * 100\n",
    "print(\"The test accuracy is {:.1f}%\".format(accuracy))"
   ]
  },
  {
   "cell_type": "code",
   "execution_count": 64,
   "metadata": {},
   "outputs": [
    {
     "name": "stdout",
     "output_type": "stream",
     "text": [
      "             precision    recall  f1-score   support\n",
      "\n",
      "          0       0.94      1.00      0.97        17\n",
      "          1       0.00      0.00      0.00        13\n",
      "          2       0.40      1.00      0.57         8\n",
      "\n",
      "avg / total       0.51      0.66      0.55        38\n",
      "\n"
     ]
    },
    {
     "name": "stderr",
     "output_type": "stream",
     "text": [
      "c:\\users\\i323429\\appdata\\local\\programs\\python\\python36\\lib\\site-packages\\sklearn\\metrics\\classification.py:1135: UndefinedMetricWarning: Precision and F-score are ill-defined and being set to 0.0 in labels with no predicted samples.\n",
      "  'precision', 'predicted', average, warn_for)\n"
     ]
    }
   ],
   "source": [
    "from sklearn.metrics import classification_report\n",
    "print(classification_report(iris_target_test, iris_target_predicted))"
   ]
  },
  {
   "cell_type": "code",
   "execution_count": null,
   "metadata": {},
   "outputs": [],
   "source": []
  }
 ],
 "metadata": {
  "kernelspec": {
   "display_name": "Python 3",
   "language": "python",
   "name": "python3"
  },
  "language_info": {
   "codemirror_mode": {
    "name": "ipython",
    "version": 3
   },
   "file_extension": ".py",
   "mimetype": "text/x-python",
   "name": "python",
   "nbconvert_exporter": "python",
   "pygments_lexer": "ipython3",
   "version": "3.6.4"
  }
 },
 "nbformat": 4,
 "nbformat_minor": 2
}
